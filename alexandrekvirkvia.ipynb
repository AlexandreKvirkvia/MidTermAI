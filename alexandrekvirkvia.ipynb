{
 "cells": [
  {
   "cell_type": "code",
   "execution_count": null,
   "id": "f1f37563",
   "metadata": {},
   "outputs": [],
   "source": [
    "pip install -q jmd_imagescraper"
   ]
  },
  {
   "cell_type": "code",
   "execution_count": null,
   "id": "3e11ada8",
   "metadata": {},
   "outputs": [],
   "source": [
    "from fastai.vision.all import *\n",
    "from fastai.vision.widgets import *\n",
    "\n",
    "from jmd_imagescraper.core import *\n",
    "from jmd_imagescraper.imagecleaner import *"
   ]
  },
  {
   "cell_type": "code",
   "execution_count": null,
   "id": "2063ca7c",
   "metadata": {},
   "outputs": [],
   "source": [
    "# First let's create a path object to store downloaded images\n",
    "path = Path('Images')\n",
    "if not path.is_dir():\n",
    "    path.mkdir()\n",
    "\n",
    "# Define the folder name and search string dict\n",
    "imgs = {\"cat\": \"cat\",\n",
    "        \"dog\": \"dog\"}\n",
    "\n",
    "# Download the images into path\n",
    "for fol_name, sch_str in imgs.items():\n",
    "    duckduckgo_search(path, fol_name, sch_str, max_results=4)\n",
    "    \n",
    "\n",
    "images = get_image_files(path)\n",
    "print(len(images))\n",
    "\n",
    "# Create the datablock object for the bears dataset\n",
    "animal = DataBlock(\n",
    "    blocks=(ImageBlock, CategoryBlock),\n",
    "    get_items=get_image_files,\n",
    "    splitter=RandomSplitter(valid_pct=0.2, seed=42),\n",
    "    get_y=parent_label,\n",
    "    item_tfms=Resize(128)\n",
    ")\n",
    "# Create a dataloaders from dblock\n",
    "dls = animal.dataloaders(path, bs=6)\n",
    "\n",
    "# Display few samples from batch\n",
    "dls.show_batch()"
   ]
  }
 ],
 "metadata": {
  "kernelspec": {
   "display_name": "Python 3 (ipykernel)",
   "language": "python",
   "name": "python3"
  },
  "language_info": {
   "codemirror_mode": {
    "name": "ipython",
    "version": 3
   },
   "file_extension": ".py",
   "mimetype": "text/x-python",
   "name": "python",
   "nbconvert_exporter": "python",
   "pygments_lexer": "ipython3",
   "version": "3.9.13"
  }
 },
 "nbformat": 4,
 "nbformat_minor": 5
}
